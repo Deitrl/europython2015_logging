{
 "cells": [
  {
   "cell_type": "code",
   "execution_count": 2,
   "metadata": {
    "collapsed": true,
    "slideshow": {
     "slide_type": "skip"
    }
   },
   "outputs": [],
   "source": [
    "from __future__ import print_function\n",
    "import presentation_helper"
   ]
  },
  {
   "cell_type": "markdown",
   "metadata": {
    "slideshow": {
     "slide_type": "slide"
    }
   },
   "source": [
    "<center>\n",
    "<img width=\"95%\" src=\"figures/europython_title_img.png\"/>\n",
    "</center>"
   ]
  },
  {
   "cell_type": "markdown",
   "metadata": {
    "slideshow": {
     "slide_type": "slide"
    }
   },
   "source": [
    "## Agenda\n",
    "\n",
    "- Why Logging\n",
    "- How does Logging work for you?\n",
    "- Optional Content"
   ]
  },
  {
   "cell_type": "markdown",
   "metadata": {
    "slideshow": {
     "slide_type": "slide"
    }
   },
   "source": [
    "## The Presentation\n",
    "- The slides, support code and jypyter notebook are on Github\n",
    "- [https://github.com/stbaercom/europython2015_logging](https://github.com/stbaercom/europython2015_logging)"
   ]
  },
  {
   "cell_type": "markdown",
   "metadata": {
    "slideshow": {
     "slide_type": "slide"
    }
   },
   "source": [
    "## A  Simple Program, Without any Logging"
   ]
  },
  {
   "cell_type": "code",
   "execution_count": 8,
   "metadata": {
    "collapsed": true
   },
   "outputs": [],
   "source": [
    "from datetime import datetime\n",
    "\n",
    "def my_division_p(dividend, divisor):\n",
    "    try:\n",
    "        print(\"Debug, Division : {}/{}\".format(dividend,divisor))\n",
    "        result = dividend / divisor\n",
    "        return result\n",
    "    except (ZeroDivisionError, TypeError):\n",
    "        print(\"Error, Division Failed\")\n",
    "        return None\n",
    "def division_task_handler_p(task):\n",
    "    print(\"Handling division task,{} items\".format(len(task)))\n",
    "    result = []\n",
    "    for i, task in enumerate(task):\n",
    "        print(\"Doing devision iteration {} on {:%Y}\".format(i,datetime.now()))\n",
    "        dividend, divisor = task\n",
    "        result.append(my_division_p(dividend,divisor))\n",
    "    return result"
   ]
  },
  {
   "cell_type": "markdown",
   "metadata": {
    "slideshow": {
     "slide_type": "slide"
    }
   },
   "source": [
    "## Let us Have a Look at the Output"
   ]
  },
  {
   "cell_type": "code",
   "execution_count": 9,
   "metadata": {
    "collapsed": false
   },
   "outputs": [
    {
     "name": "stdout",
     "output_type": "stream",
     "text": [
      "Handling division task,5 items\n",
      "Doing devision iteration 0 on 2015\n",
      "Debug, Division : 3/4\n",
      "Doing devision iteration 1 on 2015\n",
      "Debug, Division : 5/1.4\n",
      "Doing devision iteration 2 on 2015\n",
      "Debug, Division : 2/0\n",
      "Error, Division Failed\n",
      "Doing devision iteration 3 on 2015\n",
      "Debug, Division : 3/5\n",
      "Doing devision iteration 4 on 2015\n",
      "Debug, Division : 10/1\n",
      "Error, Division Failed\n"
     ]
    },
    {
     "data": {
      "text/plain": [
       "[0.75, 3.5714285714285716, None, 0.6, None]"
      ]
     },
     "execution_count": 9,
     "metadata": {},
     "output_type": "execute_result"
    }
   ],
   "source": [
    "task = [(3,4),(5,1.4),(2,0),(3,5),(\"10\",1)]\n",
    "division_task_handler_p(task)"
   ]
  },
  {
   "cell_type": "markdown",
   "metadata": {
    "slideshow": {
     "slide_type": "slide"
    }
   },
   "source": [
    "## The Problems with  ``print()``\n",
    "\n",
    "- We don't have a way to select the types of messages we are interested in\n",
    "- We have to add all information (timestamps, etc...) by ourselves\n",
    "- All our messages will look slightly different\n",
    "- We have only limited control where our message end up"
   ]
  },
  {
   "cell_type": "markdown",
   "metadata": {
    "slideshow": {
     "slide_type": "slide"
    }
   },
   "source": [
    "## What is Different with Logging?\n",
    "- We have more structure, and easier parsing\n",
    "- The logging module provides some extra informaiton (Logger, Level, and Formating)\n",
    "- We Handling of exception essentially for free."
   ]
  },
  {
   "cell_type": "markdown",
   "metadata": {
    "slideshow": {
     "slide_type": "slide"
    }
   },
   "source": [
    "## Aspects of a Logging Message"
   ]
  },
  {
   "cell_type": "markdown",
   "metadata": {},
   "source": [
    "<center>\n",
    "<img width=\"95%\" src=\"figures/DimensionsLogging.png\"/>\n",
    "</center>"
   ]
  },
  {
   "cell_type": "markdown",
   "metadata": {
    "slideshow": {
     "slide_type": "slide"
    }
   },
   "source": [
    "## Using the Logging Module for Comparison"
   ]
  },
  {
   "cell_type": "code",
   "execution_count": 10,
   "metadata": {
    "collapsed": true
   },
   "outputs": [],
   "source": [
    "import log1; logging = log1.get_clean_logging()\n",
    "logging.basicConfig(level=logging.DEBUG)\n",
    "log = logging.getLogger()\n",
    "\n",
    "def my_division(dividend, divisor):\n",
    "    try:\n",
    "        log.debug(\"Division : %s/%s\", dividend, divisor)\n",
    "        result = dividend / divisor\n",
    "        return result\n",
    "    except (ZeroDivisionError, TypeError):\n",
    "        log.exception(\"Error, Division Failed\")\n",
    "        return None\n",
    "\n",
    "def division_task_handler(task):\n",
    "    log.info(\"Handling division task,%s items\",len(task))\n",
    "    result = []\n",
    "    for i, task in enumerate(task):\n",
    "        log.info(\"Doing devision iteration %s\",i)\n",
    "        dividend, divisor = task\n",
    "        result.append(my_division(dividend,divisor))\n",
    "    return result"
   ]
  },
  {
   "cell_type": "markdown",
   "metadata": {
    "slideshow": {
     "slide_type": "slide"
    }
   },
   "source": [
    "## The Call and the Log Messages"
   ]
  },
  {
   "cell_type": "code",
   "execution_count": 11,
   "metadata": {
    "collapsed": false
   },
   "outputs": [
    {
     "name": "stderr",
     "output_type": "stream",
     "text": [
      "INFO:root:Handling division task,4 items\n",
      "INFO:root:Doing devision iteration 0\n",
      "DEBUG:root:Division : 3/4\n",
      "INFO:root:Doing devision iteration 1\n",
      "DEBUG:root:Division : 2/0\n",
      "ERROR:root:Error, Division Failed\n",
      "Traceback (most recent call last):\n",
      "  File \"<ipython-input-10-a904db1e3e23>\", line 8, in my_division\n",
      "    result = dividend / divisor\n",
      "ZeroDivisionError: division by zero\n",
      "INFO:root:Doing devision iteration 2\n",
      "DEBUG:root:Division : 3/5\n",
      "INFO:root:Doing devision iteration 3\n",
      "DEBUG:root:Division : 10/1\n",
      "ERROR:root:Error, Division Failed\n",
      "Traceback (most recent call last):\n",
      "  File \"<ipython-input-10-a904db1e3e23>\", line 8, in my_division\n",
      "    result = dividend / divisor\n",
      "TypeError: unsupported operand type(s) for /: 'str' and 'int'\n"
     ]
    },
    {
     "data": {
      "text/plain": [
       "[0.75, None, 0.6, None]"
      ]
     },
     "execution_count": 11,
     "metadata": {},
     "output_type": "execute_result"
    }
   ],
   "source": [
    "task = [(3,4),(2,0),(3,5),(\"10\",1)]\n",
    "division_task_handler(task)"
   ]
  },
  {
   "cell_type": "markdown",
   "metadata": {
    "slideshow": {
     "slide_type": "slide"
    }
   },
   "source": [
    "## How does the Logging Module represent these Aspect"
   ]
  },
  {
   "cell_type": "markdown",
   "metadata": {},
   "source": [
    "<center>\n",
    "<img width=\"90%\" src=\"figures/DimensionsLoggingImp.png\"/>\n",
    "</center>"
   ]
  },
  {
   "cell_type": "markdown",
   "metadata": {
    "slideshow": {
     "slide_type": "slide"
    }
   },
   "source": [
    "## Back to Code. How does Logging Work?"
   ]
  },
  {
   "cell_type": "code",
   "execution_count": 12,
   "metadata": {
    "collapsed": false,
    "slideshow": {
     "slide_type": "-"
    }
   },
   "outputs": [
    {
     "name": "stderr",
     "output_type": "stream",
     "text": [
      "WARNING:root:I am here\n",
      "ERROR:root:As am I\n",
      "ERROR:root: And I\n",
      "Traceback (most recent call last):\n",
      "  File \"<ipython-input-12-75f8227eec02>\", line 8, in <module>\n",
      "    1/0;\n",
      "ZeroDivisionError: division by zero\n",
      "CRITICAL:root:Me, of course\n"
     ]
    }
   ],
   "source": [
    "import log1;logging = log1.get_clean_logging() # this would be import logging outside this notebook\n",
    "\n",
    "logging.debug(\"Find me in the log\")\n",
    "logging.info(\"I am hidden\")\n",
    "logging.warn(\"I am here\")\n",
    "logging.error(\"As am I\")\n",
    "try: \n",
    "    1/0; \n",
    "except:\n",
    "    logging.exception(\" And I\")\n",
    "logging.critical(\"Me, of course\")"
   ]
  },
  {
   "cell_type": "markdown",
   "metadata": {
    "slideshow": {
     "slide_type": "slide"
    }
   },
   "source": [
    "## More Complex Logging Setup with ``basicConfig()``"
   ]
  },
  {
   "cell_type": "code",
   "execution_count": 13,
   "metadata": {
    "collapsed": false,
    "slideshow": {
     "slide_type": "-"
    }
   },
   "outputs": [
    {
     "name": "stderr",
     "output_type": "stream",
     "text": [
      "2015-07-19 20:19:55,551 DEBUG      root            : Now I show up \n",
      "2015-07-19 20:19:55,552 INFO       root            : Now this is good logging!\n",
      "2015-07-19 20:19:55,552 WARNING    root            : I am here. 1    + 3    = 4\n",
      "2015-07-19 20:19:55,552 ERROR      root            : As am I\n",
      "2015-07-19 20:19:55,553 ERROR      root            :  And I\n",
      "Traceback (most recent call last):\n",
      "  File \"<ipython-input-13-63765f2f7e9f>\", line 12, in <module>\n",
      "    1/0;\n",
      "ZeroDivisionError: division by zero\n"
     ]
    }
   ],
   "source": [
    "import log1;logging = log1.get_clean_logging()\n",
    "\n",
    "datefmt = \"%Y-%m-%d %H:%M:%S\"\n",
    "msgfmt = \"%(asctime)s,%(msecs)03d %(levelname)-10s %(name)-15s : %(message)s\"\n",
    "logging.basicConfig(level=logging.DEBUG, format=msgfmt, datefmt=datefmt)\n",
    "logging.debug(\"Now I show up \")\n",
    "logging.info(\"Now this is %s logging!\",\"good\")\n",
    "logging.warn(\"I am here. %-4i + %-4i = %i\",1,3,1+3)\n",
    "logging.error(\"As am I\")\n",
    "try: \n",
    "    1/0; \n",
    "except:\n",
    "    logging.exception(\" And I\")"
   ]
  },
  {
   "cell_type": "markdown",
   "metadata": {
    "slideshow": {
     "slide_type": "slide"
    }
   },
   "source": [
    "## Some (personal) Remarks  about ``basicConfig()``\n",
    "- `basicConfig()` does save you some typing, but I would go for the 'normal' setup. \n",
    "- Using `basicConfig()` is a matter of personal taste.\n",
    "- The normal setup makes the structure clearer.\n",
    "- Keep in mind that basicConfig() is meant to be called once..."
   ]
  },
  {
   "cell_type": "markdown",
   "metadata": {
    "slideshow": {
     "slide_type": "slide"
    }
   },
   "source": [
    "## Using the Standard Configuration"
   ]
  },
  {
   "cell_type": "code",
   "execution_count": 14,
   "metadata": {
    "collapsed": false
   },
   "outputs": [
    {
     "name": "stderr",
     "output_type": "stream",
     "text": [
      "2015-07-19 20:19:55,571 INFO   root       : Now this is good logging!\n",
      "2015-07-19 20:19:55,572 DEBUG  root       : A slightly more complex message 1 + 2 = 3\n"
     ]
    }
   ],
   "source": [
    "import log1, json, logging.config;logging  = log1.get_clean_logging()\n",
    "datefmt = \"%Y-%m-%d %H:%M:%S\"\n",
    "msgfmt = \"%(asctime)s,%(msecs)03d %(levelname)-6s %(name)-10s : %(message)s\"\n",
    "\n",
    "log = logging.getLogger() \n",
    "log.setLevel(logging.DEBUG)\n",
    "lh = logging.StreamHandler()\n",
    "lf =  logging.Formatter(fmt=msgfmt, datefmt=datefmt)\n",
    "lh.setFormatter(lf)\n",
    "log.addHandler(lh)\n",
    "\n",
    "log.info(\"Now this is %s logging!\",\"good\")\n",
    "log.debug(\"A slightly more complex message %s + %s = %s\",1,2,1+2)"
   ]
  },
  {
   "cell_type": "markdown",
   "metadata": {
    "slideshow": {
     "slide_type": "slide"
    }
   },
   "source": [
    "## Now, back to the Theory. What have we Build?\n",
    "<center>\n",
    "<img src=\"figures/LogTree_Basic.png\" width=\"90%\"/>\n",
    "</center>"
   ]
  },
  {
   "cell_type": "markdown",
   "metadata": {
    "slideshow": {
     "slide_type": "slide"
    }
   },
   "source": [
    "## How do we get from the Configuration to the Log Message?\n",
    "<center>\n",
    "<img src=\"figures/Format.png\" width=\"95%\"/>\n",
    "</center>"
   ]
  },
  {
   "cell_type": "markdown",
   "metadata": {
    "slideshow": {
     "slide_type": "slide"
    }
   },
   "source": [
    "## Formatting : Attributes Available for the Logging Call"
   ]
  },
  {
   "cell_type": "markdown",
   "metadata": {},
   "source": [
    "<table height=\"80%\" class=\"bst\"><tr><th>Attribute</th><th>Description</th></tr><tr><td>args</td><td>Tuple of arguments passed to the logging call</td></tr><tr><td>asctime</td><td>Log record creation time, formatted</td></tr><tr><td>created</td><td>Log record creation time, seconds since  the Epoch</td></tr><tr><td>exc_info</td><td>Exception information / stack trace, if any</td></tr><tr><td>filename</td><td>Filename portion of pathname for the logging module</td></tr><tr><td>funcName</td><td>Name of function containing the logging call</td></tr><tr><td>levelname</td><td>Name of Logging Level</td></tr><tr><td>levelno</td><td>Number of Logging Level</td></tr><tr><td>lineno</td><td>Line number in source code for the logging call</td></tr><tr><td>module</td><td>Module (name portion of filename).</td></tr><tr><td>message</td><td>Logged message</td></tr><tr><td>name</td><td>Name of the logger used to log the call.</td></tr><tr><td>pathname</td><td>pathname of source file</td></tr><tr><td>process</td><td>Process ID</td></tr><tr><td>processName</td><td>Process name</td></tr><tr><td>...</td><td>...</td></tr></table>"
   ]
  },
  {
   "cell_type": "markdown",
   "metadata": {
    "collapsed": true,
    "slideshow": {
     "slide_type": "slide"
    }
   },
   "source": [
    "## Using ``dictConfig()``"
   ]
  },
  {
   "cell_type": "code",
   "execution_count": 15,
   "metadata": {
    "collapsed": false
   },
   "outputs": [
    {
     "name": "stderr",
     "output_type": "stream",
     "text": [
      "2015-07-19 20:19:55,602 INFO       root            : Now this is good logging!\n"
     ]
    }
   ],
   "source": [
    "import log1, json, logging.config;logging  = log1.get_clean_logging()\n",
    "conf_dict = {\n",
    "    'version': 1,\n",
    "    'disable_existing_loggers': True,\n",
    "    'formatters': {\n",
    "        'longformat': {\n",
    "            'format': \"%(asctime)s,%(msecs)03d %(levelname)-10s %(name)-15s : %(message)s\",\n",
    "            'datefmt': \"%Y-%m-%d %H:%M:%S\"}},\n",
    "    'handlers': {\n",
    "        'console': {\n",
    "            'class': 'logging.StreamHandler',\n",
    "            'formatter': \"longformat\"}},\n",
    "    'loggers':{\n",
    "        '': {\n",
    "            'level': 'DEBUG',\n",
    "            'handlers': ['console']}}}\n",
    "logging.config.dictConfig(conf_dict)    \n",
    "log = logging.getLogger() \n",
    "log.info(\"Now this is %s logging!\",\"good\")"
   ]
  },
  {
   "cell_type": "markdown",
   "metadata": {
    "slideshow": {
     "slide_type": "slide"
    }
   },
   "source": [
    "## Adding a ``Filehandler`` to the Logger"
   ]
  },
  {
   "cell_type": "code",
   "execution_count": 16,
   "metadata": {
    "collapsed": false
   },
   "outputs": [
    {
     "name": "stderr",
     "output_type": "stream",
     "text": [
      "2015-07-19 20:19:55,618 INFO       root            : Now this is good logging!\n"
     ]
    },
    {
     "name": "stdout",
     "output_type": "stream",
     "text": [
      "2015-07-19 20:19:55,618 INFO       root            : Now this is good logging!\r\n"
     ]
    }
   ],
   "source": [
    "import log1, json, logging.config;logging  = log1.get_clean_logging()\n",
    "base_config = json.load(open(\"conf_dict.json\"))\n",
    "\n",
    "base_config['handlers']['logfile'] = {\n",
    "    'class' : 'logging.FileHandler',\n",
    "    'mode' : 'w',\n",
    "    'filename' : 'logfile.txt',\n",
    "    'formatter': \"longformat\"}\n",
    "base_config['loggers']['']['handlers'].append('logfile')\n",
    "logging.config.dictConfig(base_config)\n",
    "log = logging.getLogger() \n",
    "log.info(\"Now this is %s logging!\",\"good\")\n",
    "!cat logfile.txt"
   ]
  },
  {
   "cell_type": "markdown",
   "metadata": {
    "slideshow": {
     "slide_type": "slide"
    }
   },
   "source": [
    " ## Another look at the logging object tree\n",
    "<center>\n",
    "<img src=\"figures/LogTree_File.png\" width=\"80%\"/>\n",
    "</center>"
   ]
  },
  {
   "cell_type": "markdown",
   "metadata": {
    "slideshow": {
     "slide_type": "slide"
    }
   },
   "source": [
    "## Set the Level on the ``FileHandler``"
   ]
  },
  {
   "cell_type": "code",
   "execution_count": 1,
   "metadata": {
    "collapsed": false
   },
   "outputs": [
    {
     "name": "stderr",
     "output_type": "stream",
     "text": [
      "2015-07-20 19:04:03,132 INFO       root            : Now this is good logging!\n",
      "2015-07-20 19:04:03,133 WARNING    root            : Now this is worrisome logging!\n"
     ]
    },
    {
     "name": "stdout",
     "output_type": "stream",
     "text": [
      "2015-07-20 19:04:03,133 WARNING    root            : Now this is worrisome logging!\r\n"
     ]
    }
   ],
   "source": [
    "import log1, json, logging.config;logging  = log1.get_clean_logging()\n",
    "\n",
    "file_config = json.load(open(\"conf_dict_with_file.json\"))\n",
    "file_config['handlers']['logfile']['level'] = \"WARN\"\n",
    "logging.config.dictConfig(file_config)\n",
    "log = logging.getLogger() \n",
    "log.info(\"Now this is %s logging!\",\"good\")\n",
    "log.warning(\"Now this is %s logging!\",\"worrisome\")\n",
    "!cat logfile.txt"
   ]
  },
  {
   "cell_type": "markdown",
   "metadata": {
    "slideshow": {
     "slide_type": "slide"
    }
   },
   "source": [
    "## Adding  Child Loggers under the Root"
   ]
  },
  {
   "cell_type": "code",
   "execution_count": 18,
   "metadata": {
    "collapsed": false
   },
   "outputs": [
    {
     "name": "stderr",
     "output_type": "stream",
     "text": [
      "2015-07-19 20:19:55,865 INFO       root            : Now this is good logging!\n",
      "2015-07-19 20:19:55,866 INFO       A               : Now this is more logging!\n",
      "2015-07-19 20:19:55,867 WARNING    root            : Now this is worrisome logging!\n"
     ]
    }
   ],
   "source": [
    "import log1,json,logging.config;logging  = log1.get_clean_logging()\n",
    "logging.config.dictConfig(json.load(open(\"conf_dict.json\")))\n",
    "log = logging.getLogger(\"\") \n",
    "child_A = logging.getLogger(\"A\") \n",
    "child_B = logging.getLogger(\"B\") \n",
    "child_B_A = logging.getLogger(\"B.A\")\n",
    "log.info(\"Now this is %s logging!\",\"good\")\n",
    "child_A.info(\"Now this is more logging!\")\n",
    "log.warning(\"Now this is %s logging!\",\"worrisome\")"
   ]
  },
  {
   "cell_type": "markdown",
   "metadata": {
    "slideshow": {
     "slide_type": "slide"
    }
   },
   "source": [
    " ## Looking at the tree of Logging Objects\n",
    "<center>\n",
    "<img src=\"figures/LogTree_Full.png\" width=\"90%\"/>\n",
    "</center>"
   ]
  },
  {
   "cell_type": "markdown",
   "metadata": {
    "slideshow": {
     "slide_type": "slide"
    }
   },
   "source": [
    "## Best Practices for the Logging Tree\n",
    "- Use ``.getLogger(__name__)`` per module to define loggers under the root logger\n",
    "- Set propagate to True on each Logger\n",
    "- Attach Handlers and Filters as needed to control output from the Logging hierarchy"
   ]
  },
  {
   "cell_type": "markdown",
   "metadata": {
    "slideshow": {
     "slide_type": "slide"
    }
   },
   "source": [
    "## Filter - Now that things are Getting Complicated\n",
    "- With more loggers and handlers in the tree of logging objects, things are getting complicated\n",
    "- We may not want every logger to send log records to every filter\n",
    "- The logging level gives us some control, there are limits\n",
    "- Filters are one solution to this problem\n",
    "- Filter can also **add** information to records, thus helping with structured logging"
   ]
  },
  {
   "cell_type": "markdown",
   "metadata": {
    "slideshow": {
     "slide_type": "slide"
    }
   },
   "source": [
    "## Using Filters\n",
    "<center>\n",
    "<img src=\"figures/LogTree_Filter.png\" width=\"80%\"/>\n",
    "</center>"
   ]
  },
  {
   "cell_type": "markdown",
   "metadata": {
    "slideshow": {
     "slide_type": "slide"
    }
   },
   "source": [
    "## An Example for using Filter Objects"
   ]
  },
  {
   "cell_type": "code",
   "execution_count": 20,
   "metadata": {
    "collapsed": false
   },
   "outputs": [
    {
     "name": "stderr",
     "output_type": "stream",
     "text": [
      "2015-07-20 08:01:55,108 INFO       A               : Just log me\n",
      "2015-07-20 08:01:55,108 INFO       root            : Hallo, Please log me\n"
     ]
    }
   ],
   "source": [
    "import log1,json,logging.config;logging  = log1.get_clean_logging()\n",
    "logging.config.dictConfig(json.load(open(\"conf_dict.json\")))\n",
    "\n",
    "def log_filter(rec): # Callables work with 3.2 and later\n",
    "    if 'please' in rec.msg.lower():\n",
    "        return True\n",
    "    return False\n",
    "log = logging.getLogger(\"\") \n",
    "log.addFilter(log_filter)\n",
    "child_A = logging.getLogger(\"A\") \n",
    "\n",
    "log.info(\"Just log me\")\n",
    "child_A.info(\"Just log me\")\n",
    "log.info(\"Hallo, Please log me\")\n"
   ]
  },
  {
   "cell_type": "markdown",
   "metadata": {
    "slideshow": {
     "slide_type": "slide"
    }
   },
   "source": [
    "## The Way of a Logging Record\n",
    "<center>\n",
    "<img src=\"figures/LoggingFlow.png\" width=\"100%\"/>\n",
    "</center>"
   ]
  },
  {
   "cell_type": "markdown",
   "metadata": {
    "slideshow": {
     "slide_type": "slide"
    }
   },
   "source": [
    "## A second Example for Filters, in the LogHandler"
   ]
  },
  {
   "cell_type": "code",
   "execution_count": 20,
   "metadata": {
    "collapsed": false
   },
   "outputs": [
    {
     "name": "stderr",
     "output_type": "stream",
     "text": [
      "2015-07-19 20:19:55,905 WARNING root       : Hi, I am LOGGY. I am 11 seconds old. Please log me (I am nice)\n"
     ]
    }
   ],
   "source": [
    "import log1, json, logging.config;logging  = log1.get_clean_logging()\n",
    "datefmt = \"%Y-%m-%d %H:%M:%S\"\n",
    "msgfmt = \"%(asctime)s,%(msecs)03d %(levelname)-6s %(name)-10s : %(message)s\"\n",
    "log_reg = None\n",
    "def handler_filter(rec): # Callables work with 3.2 and later\n",
    "    global log_reg\n",
    "    if 'please' in rec.msg.lower():\n",
    "        rec.msg = rec.msg + \" (I am nice)\" # Changing the record\n",
    "        rec.args = (rec.args[0].upper(), rec.args[1] + 10)\n",
    "        rec.__dict__['custom_name'] = \"Important context information\"\n",
    "        log_reg  = rec\n",
    "        return True\n",
    "    return False\n",
    "log = logging.getLogger() \n",
    "lh = logging.StreamHandler()\n",
    "lf =  logging.Formatter(fmt=msgfmt, datefmt=datefmt)\n",
    "lh.setFormatter(lf)\n",
    "log.addHandler(lh)\n",
    "lh.addFilter(handler_filter)\n",
    "log.warn(\"I am a bold Logger\",\"good\")\n",
    "log.warn(\"Hi, I am %s. I am %i seconds old. Please log me\",\"Loggy\", 1)\n"
   ]
  },
  {
   "cell_type": "markdown",
   "metadata": {
    "slideshow": {
     "slide_type": "slide"
    }
   },
   "source": [
    "# Things you might want to know ( if we still have some time)"
   ]
  },
  {
   "cell_type": "markdown",
   "metadata": {
    "slideshow": {
     "slide_type": "slide"
    }
   },
   "source": [
    "## A short look at our LogRecord"
   ]
  },
  {
   "cell_type": "code",
   "execution_count": 21,
   "metadata": {
    "collapsed": false
   },
   "outputs": [
    {
     "name": "stdout",
     "output_type": "stream",
     "text": [
      "<LogRecord: root, 30, <ipython-input-20-d1d101ab918f>, 25, \"Hi, I am %s. I am %i seconds old. Please log me (I am nice)\">\n"
     ]
    },
    {
     "data": {
      "text/plain": [
       "{'args': ('LOGGY', 11),\n",
       " 'asctime': '2015-07-19 20:19:55',\n",
       " 'created': 1437329995.905689,\n",
       " 'custom_name': 'Important context information',\n",
       " 'exc_info': None,\n",
       " 'exc_text': None,\n",
       " 'filename': '<ipython-input-20-d1d101ab918f>',\n",
       " 'funcName': '<module>',\n",
       " 'levelname': 'WARNING',\n",
       " 'levelno': 30,\n",
       " 'lineno': 25,\n",
       " 'message': 'Hi, I am LOGGY. I am 11 seconds old. Please log me (I am nice)',\n",
       " 'module': '<ipython-input-20-d1d101ab918f>',\n",
       " 'msecs': 905.689001083374,\n",
       " 'msg': 'Hi, I am %s. I am %i seconds old. Please log me (I am nice)',\n",
       " 'name': 'root',\n",
       " 'pathname': '<ipython-input-20-d1d101ab918f>',\n",
       " 'process': 1644,\n",
       " 'processName': 'MainProcess',\n",
       " 'relativeCreated': 1.280069351196289,\n",
       " 'stack_info': None,\n",
       " 'thread': 140735243608832,\n",
       " 'threadName': 'MainThread'}"
      ]
     },
     "execution_count": 21,
     "metadata": {},
     "output_type": "execute_result"
    }
   ],
   "source": [
    "print(log_reg)\n",
    "log_reg.__dict__"
   ]
  },
  {
   "cell_type": "markdown",
   "metadata": {
    "slideshow": {
     "slide_type": "slide"
    }
   },
   "source": [
    "## Logging Performance - Slow, but Fast Enough\n",
    "<table class=\"bst\"><tr><th>Scenario (10000 Call, 3 Logs per call)</th><th>Runtime</th></tr><tr><td>Full Logging with buffered writes</td><td>3.096s</td></tr><tr><td>Disable Caller information</td><td>2.868s</td></tr><tr><td>Check Logging Lvl before Call, Logging disabled</td><td>0.186s</td></tr><tr><td>Logging module level disabled</td><td>0.181s</td></tr><tr><td>No Logging calls at all</td><td>0.157s</td></tr></table>"
   ]
  },
  {
   "cell_type": "markdown",
   "metadata": {
    "slideshow": {
     "slide_type": "slide"
    }
   },
   "source": [
    "## Getting the current Logging Tree"
   ]
  },
  {
   "cell_type": "code",
   "execution_count": 4,
   "metadata": {
    "collapsed": false
   },
   "outputs": [
    {
     "name": "stdout",
     "output_type": "stream",
     "text": [
      "<--\"\"\n",
      "   Level DEBUG\n",
      "   Handler Stream <IPython.kernel.zmq.iostream.OutStream object at 0x105d043c8>\n",
      "     Formatter fmt='%(asctime)s,%(msecs)03d %(levelname)-10s %(name)-15s : %(message)s' datefmt='%Y-%m-%d %H:%M:%S'\n",
      "   Handler File '/Users/imhiro/AllFiles/0021_travel_events_conferences_workshops/2015-07-19_europython/github/logfile.txt'\n",
      "     Formatter fmt='%(asctime)s,%(msecs)03d %(levelname)-10s %(name)-15s : %(message)s' datefmt='%Y-%m-%d %H:%M:%S'\n",
      "   |\n",
      "   o   \"IPKernelApp\"\n",
      "   |   Level WARNING\n",
      "   |   Propagate OFF\n",
      "   |   Disabled\n",
      "   |   Handler Stream <_io.TextIOWrapper name='<stderr>' mode='w' encoding='UTF-8'>\n",
      "   |     Formatter <IPython.config.application.LevelFormatter object at 0x104b362e8>\n",
      "   |\n",
      "   o<--[concurrent]\n",
      "   |   |\n",
      "   |   o<--\"concurrent.futures\"\n",
      "   |       Level NOTSET so inherits level DEBUG\n",
      "   |       Disabled\n",
      "   |\n",
      "   o<--\"requests\"\n",
      "   |   Level NOTSET so inherits level DEBUG\n",
      "   |   Handler <logging.NullHandler object at 0x106f75a20>\n",
      "   |   |\n",
      "   |   o<--[requests.packages]\n",
      "   |       |\n",
      "   |       o<--\"requests.packages.urllib3\"\n",
      "   |           Level NOTSET so inherits level DEBUG\n",
      "   |           Handler <logging.NullHandler object at 0x106f759b0>\n",
      "   |           |\n",
      "   |           o<--\"requests.packages.urllib3.connectionpool\"\n",
      "   |           |   Level NOTSET so inherits level DEBUG\n",
      "   |           |\n",
      "   |           o<--\"requests.packages.urllib3.poolmanager\"\n",
      "   |           |   Level NOTSET so inherits level DEBUG\n",
      "   |           |\n",
      "   |           o<--[requests.packages.urllib3.util]\n",
      "   |               |\n",
      "   |               o<--\"requests.packages.urllib3.util.retry\"\n",
      "   |                   Level NOTSET so inherits level DEBUG\n",
      "   |\n",
      "   o<--\"tornado\"\n",
      "       Level NOTSET so inherits level DEBUG\n",
      "       Disabled\n",
      "       |\n",
      "       o<--\"tornado.access\"\n",
      "       |   Level NOTSET so inherits level DEBUG\n",
      "       |   Disabled\n",
      "       |\n",
      "       o<--\"tornado.application\"\n",
      "       |   Level NOTSET so inherits level DEBUG\n",
      "       |   Disabled\n",
      "       |\n",
      "       o<--\"tornado.general\"\n",
      "           Level NOTSET so inherits level DEBUG\n",
      "           Disabled\n"
     ]
    }
   ],
   "source": [
    "import json, logging.config\n",
    "config = json.load(open(\"conf_dict_with_file.json\"))\n",
    "logging.config.dictConfig(config)\n",
    "import requests\n",
    "import logging_tree\n",
    "logging_tree.printout()"
   ]
  },
  {
   "cell_type": "markdown",
   "metadata": {
    "slideshow": {
     "slide_type": "slide"
    }
   },
   "source": [
    "## Reconfiguration\n",
    "- It is possible to change the logging configuration at runtime\n",
    "- It is even part of the standard library\n",
    "- Still, some caution is in order"
   ]
  },
  {
   "cell_type": "markdown",
   "metadata": {
    "slideshow": {
     "slide_type": "slide"
    }
   },
   "source": [
    "## Reloading the configuration _can_ disable the existing loggers"
   ]
  },
  {
   "cell_type": "code",
   "execution_count": 22,
   "metadata": {
    "collapsed": false
   },
   "outputs": [],
   "source": [
    "import log1,json,logging,logging.config;logging  = log1.get_clean_logging()\n",
    "\n",
    "#Load Config, define a child logger (could also be a module)\n",
    "logging.config.dictConfig(json.load(open(\"conf_dict_with_file.json\")))\n",
    "child_log = logging.getLogger(\"somewhere\") \n",
    "\n",
    "#Reload Config\n",
    "logging.config.dictConfig(json.load(open(\"conf_dict_with_file.json\")))\n",
    "\n",
    "\n",
    "#Our childlogger was disables\n",
    "child_log.info(\"Now this is %s logging!\",\"good\")\n"
   ]
  },
  {
   "cell_type": "markdown",
   "metadata": {
    "slideshow": {
     "slide_type": "slide"
    }
   },
   "source": [
    "## Reloading can happen in place"
   ]
  },
  {
   "cell_type": "code",
   "execution_count": 30,
   "metadata": {
    "collapsed": false
   },
   "outputs": [
    {
     "name": "stderr",
     "output_type": "stream",
     "text": [
      "2015-07-19 20:20:42,290 INFO       somewhere       : Now this is good logging!\n"
     ]
    }
   ],
   "source": [
    "import log1, json, logging, logging.config;logging  = log1.get_clean_logging()\n",
    "\n",
    "config = json.load(open(\"conf_dict_with_file.json\"))\n",
    "#Load Config, define a child logger (could also be a module)\n",
    "\n",
    "logging.config.dictConfig(config)\n",
    "child_log = logging.getLogger(\"somewhere\") \n",
    "config['disable_existing_loggers'] = False\n",
    "#Reload Config\n",
    "logging.config.dictConfig(config)\n",
    "\n",
    "\n",
    "#Our childlogger was disables\n",
    "child_log.info(\"Now this is %s logging!\",\"good\")\n",
    "\n"
   ]
  },
  {
   "cell_type": "markdown",
   "metadata": {
    "slideshow": {
     "slide_type": "slide"
    }
   },
   "source": [
    "# Successful Logging to all of You"
   ]
  },
  {
   "cell_type": "code",
   "execution_count": 6,
   "metadata": {
    "collapsed": false,
    "slideshow": {
     "slide_type": "skip"
    }
   },
   "outputs": [
    {
     "data": {
      "text/html": [
       "<style>\n",
       "\n",
       "div.output_stderr {\n",
       "    background-color: #ffffff;\n",
       "    line-height: 1; \n",
       "}\n",
       "\n",
       ".rendered_html {\n",
       "    font-family: \"proxima-nova\", helvetica;\n",
       "    font-size: 120%;\n",
       "    line-height: 1.3;\n",
       "}\n",
       "\n",
       ".rendered_html h1 {\n",
       "    margin: 0.25em 0em 0.5em;\n",
       "    color: #015C9C;\n",
       "    text-align: center;\n",
       "    line-height: 1.2; \n",
       "    font-size: 300%;\n",
       "    page-break-before: always;\n",
       "}\n",
       "\n",
       ".rendered_html h2 {\n",
       "    margin: 0em 0em 0em;\n",
       "    color: #26465D;\n",
       "    line-height: 1.0;\n",
       "    font-size: 200%;\n",
       "    text-align: center;\n",
       "}\n",
       "\n",
       ".rendered_html h3 {\n",
       "    margin: 0.5em 0em 0.5em;\n",
       "    color: #002845;\n",
       "    line-height: 1.2;\n",
       "}\n",
       "\n",
       ".rendered_html  li  {\n",
       "    line-height: 1.2; \n",
       "    font-size: 20pt;\n",
       "    margin: 0em 5em 0em;\n",
       "}\n",
       "}\n",
       "\n",
       ".prompt {\n",
       "    font-size: 110%; \n",
       "}\n",
       "\n",
       ".CodeMirror-lines {\n",
       "    font-size: 110%; \n",
       "}\n",
       "\n",
       ".output_area {\n",
       "    font-size: 110%; \n",
       "}\n",
       "\n",
       "\n",
       "h1.bigtitle {\n",
       "    margin: 4cm 1cm 4cm 1cm;\n",
       "    font-size: 300%;\n",
       "}\n",
       "\n",
       "h3.point {\n",
       "    font-size: 200%;\n",
       "    text-align: center;\n",
       "    margin: 2em 0em 2em 0em;\n",
       "    #26465D\n",
       "}\n",
       "\n",
       ".sbpic {\n",
       "    margin: 10px 10px 10px 10px;\n",
       "}\n",
       "\n",
       "a.anchor-link {\n",
       "    display: none;\n",
       "}\n",
       "\n",
       "h1.title { \n",
       "    font-size: 250%;\n",
       "}\n",
       "\n",
       "\n",
       ".CodeMirror-code { width:100% !important; }\n",
       "\n",
       ".container { width:100% !important; }\n",
       "\n",
       "\n",
       "\n",
       ".bst  {\n",
       "    font-size: 18px;\n",
       "    margin: 10px;\n",
       "    text-align: left;\n",
       "    border-collapse: collapse;\n",
       "}\n",
       ".bst td {\n",
       "    color: 2370ba;\n",
       "    padding: 2px;\n",
       "    background-color: #ffffff\n",
       "    border-top: 10px solid #fff;\n",
       "}\n",
       ".bst th {\n",
       "    color: #ffffff;\n",
       "    background-color: #2370ba\n",
       "}\n",
       ".bst tr:nth-child(even) {\n",
       "    background: #CCC;\n",
       "}\n",
       "\n",
       "\n",
       "table {\n",
       "    font-size:50px;\n",
       "}\n",
       "\n",
       "</style>"
      ],
      "text/plain": [
       "<IPython.core.display.HTML object>"
      ]
     },
     "metadata": {},
     "output_type": "display_data"
    }
   ],
   "source": [
    "from presentation_helper import customize_settings\n",
    "customize_settings()"
   ]
  }
 ],
 "metadata": {
  "celltoolbar": "Slideshow",
  "kernelspec": {
   "display_name": "Python 3",
   "language": "python",
   "name": "python3"
  },
  "language_info": {
   "codemirror_mode": {
    "name": "ipython",
    "version": 3
   },
   "file_extension": ".py",
   "mimetype": "text/x-python",
   "name": "python",
   "nbconvert_exporter": "python",
   "pygments_lexer": "ipython3",
   "version": "3.4.3"
  }
 },
 "nbformat": 4,
 "nbformat_minor": 0
}
